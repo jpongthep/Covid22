{
  "nbformat": 4,
  "nbformat_minor": 0,
  "metadata": {
    "colab": {
      "name": "Copy of FinalExam.ipynb",
      "provenance": [],
      "collapsed_sections": [],
      "authorship_tag": "ABX9TyPS2a1OaYzIBBnQNGfMNChi",
      "include_colab_link": true
    },
    "kernelspec": {
      "name": "python3",
      "display_name": "Python 3"
    },
    "language_info": {
      "name": "python"
    }
  },
  "cells": [
    {
      "cell_type": "markdown",
      "metadata": {
        "id": "view-in-github",
        "colab_type": "text"
      },
      "source": [
        "<a href=\"https://colab.research.google.com/github/jpongthep/Covid22/blob/master/FinalExam.ipynb\" target=\"_parent\"><img src=\"https://colab.research.google.com/assets/colab-badge.svg\" alt=\"Open In Colab\"/></a>"
      ]
    },
    {
      "cell_type": "markdown",
      "source": [
        "1.\tจงฝึกเขียนโปรแกรมเพื่อรับค่าจำนวนเงินที่ต้องการถอนออกจากตู้ ATM แล้วคำนวณว่าจะต้องจ่ายด้วยธนบัตรราคาเท่าไหร่ จำนวนกี่ใบ แล้วแสดงผล (กำหนดให้จำนวนเงินมีค่าเป็นจำนวนเต็มร้อยและมี ธนบัตรใบละ 1,000 500 และ 100 บาท)\t(3 คะแนน)"
      ],
      "metadata": {
        "id": "4wxY097KvM2a"
      }
    },
    {
      "cell_type": "code",
      "source": [
        ""
      ],
      "metadata": {
        "id": "2YPISW2SvPT7"
      },
      "execution_count": null,
      "outputs": []
    },
    {
      "cell_type": "markdown",
      "source": [
        "2.\tถ้ากำหนดให้ 1 หลามี 36 นิ้ว และ 1 ฟุตมี 12 นิ้ว จงเขียนโปรแกรมเพื่อรับค่าความยาวเป็นหลาและฟุต แล้วคำนวณความยาวว่าเท่ากับกี่นิ้ว แล้วแสดงผล\t(3 คะแนน)"
      ],
      "metadata": {
        "id": "M72pTc8bvP9C"
      }
    },
    {
      "cell_type": "code",
      "source": [
        ""
      ],
      "metadata": {
        "id": "OVNCyFBSvRVT"
      },
      "execution_count": null,
      "outputs": []
    },
    {
      "cell_type": "markdown",
      "source": [
        "3.\tจงสร้างและแสดงผล List ที่มีค่า [50, 45, 40, 35, 30, 25, 20, 15, 10, 5, 0, ] โดยใช้วิธีที่เหมาะสม\t(2 คะแนน)"
      ],
      "metadata": {
        "id": "onAu9fFjvRub"
      }
    },
    {
      "cell_type": "code",
      "source": [
        "4.\tจงเขียนโปรแกรม 3 โปรแกรมเพื่อรับค่าตัวเลขแล้ว Print Pyramid ตามตัวอย่าง\t(6 คะแนน) \n",
        " \n",
        "4.1 Input number : 5\n",
        "*****\n",
        "****\n",
        "***\n",
        "**\n",
        "* \n",
        "4.2 Input number : 5\n",
        "12345\n",
        "1234\n",
        "123\n",
        "12\n",
        "1 \n",
        "4.3 Input number : 5\n",
        "xxxx1\n",
        "xxx12\n",
        "xx123\n",
        "x1234\n",
        "12345\n"
      ],
      "metadata": {
        "id": "400v0EAivUc7"
      },
      "execution_count": null,
      "outputs": []
    },
    {
      "cell_type": "markdown",
      "source": [
        "4.1"
      ],
      "metadata": {
        "id": "zh9RaskGvvH4"
      }
    },
    {
      "cell_type": "code",
      "source": [
        ""
      ],
      "metadata": {
        "id": "GnwW9bX2vXsc"
      },
      "execution_count": null,
      "outputs": []
    },
    {
      "cell_type": "markdown",
      "source": [
        "4.2"
      ],
      "metadata": {
        "id": "Ls7MKPqhvyDv"
      }
    },
    {
      "cell_type": "code",
      "source": [
        ""
      ],
      "metadata": {
        "id": "2eiC_TnzvyzV"
      },
      "execution_count": null,
      "outputs": []
    },
    {
      "cell_type": "markdown",
      "source": [
        "4.3"
      ],
      "metadata": {
        "id": "i9Wn0kbzvzBX"
      }
    },
    {
      "cell_type": "code",
      "source": [
        ""
      ],
      "metadata": {
        "id": "ajAI8NhxvzuI"
      },
      "execution_count": null,
      "outputs": []
    },
    {
      "cell_type": "markdown",
      "source": [
        "5.\tจงสร้าง lambda function เพื่อยกกำลังสองพารามิเตอร์ แล้วใช้ map ฟังก์ชัน เพื่อยกกำลังสอง list ที่ประกอบด้วย ตัวเลข 1 - 20 แล้วแสดงผลผลลัพธ์ที่ได้ให้เหมาะสม\t(8 คะแนน)"
      ],
      "metadata": {
        "id": "TT_CIUIdvz-J"
      }
    },
    {
      "cell_type": "code",
      "source": [
        ""
      ],
      "metadata": {
        "id": "6QDL-OeHv1z_"
      },
      "execution_count": null,
      "outputs": []
    },
    {
      "cell_type": "markdown",
      "source": [
        "6.\tจงเขียนโปรแกรมเพื่อเปิดไฟล์ที่ชื่อ (\"data.dat\") โดยใช้คำสั่ง with แล้วอ่านค่าข้อมูลจากไฟล์มาหาผลรวมของจำนวนคู่ และจำนวนคี่ (แยกกัน) แล้วบันทึกข้อมูลลงไฟล์ result.dat ตามตัวอย่าง\t(10 คะแนน)\n",
        "กำหนดไฟล์ data.dat\n",
        "23 14 16 27 32 45 56 87 95 45 10 25\n",
        "\n",
        "result.dat\n",
        "sum odd number = 347\n",
        "sum even number = 128\n"
      ],
      "metadata": {
        "id": "BV7YRVavv2EI"
      }
    },
    {
      "cell_type": "code",
      "source": [
        ""
      ],
      "metadata": {
        "id": "TQUbW0aGv5lK"
      },
      "execution_count": null,
      "outputs": []
    },
    {
      "cell_type": "markdown",
      "source": [
        "7.\tจงเขียนโปรแกรมเพื่อสุ่มรางวัลใน 1 งวดของสลากกินแบ่งรัฐบาล โดยกำหนดให้มีการสุ่มรางวัลสำคัญ ๆ ดังนี้ รางวัลที่ 1 1 รางวัล รางวัลเลขหน้า 3 ตัว 2 รางวัล รางวัลเลขท้าย 3 ตัว 2 รางวัล และรางวัลเลขท้าย 2 ตัว 1 รางวัลแล้วแสดงผลให้เหมาะสม\t(5 คะแนน)"
      ],
      "metadata": {
        "id": "e-ArxOBEv5w5"
      }
    },
    {
      "cell_type": "code",
      "source": [
        ""
      ],
      "metadata": {
        "id": "t882pI4kv7hZ"
      },
      "execution_count": null,
      "outputs": []
    },
    {
      "cell_type": "markdown",
      "source": [
        "8.\tจงสร้าง ฟังก์ชัน (def) ที่รับค่าข้อความ แล้วนับจำนวนสระในข้อความนั้นและแทนสระทุกตัวด้วยตัว x แล้ว return เป็น tuple ข้อความและจำนวนนั้น \n",
        "เช่น  input คือ mango  จะได้ค่าที่ return กลับมาคือ  ('mxngx',2)  (2 มาจากสระ a และ o , x มาจากการเปลี่ยน a,o)\t(8 คะแนน)\n"
      ],
      "metadata": {
        "id": "5ll8RqJev77D"
      }
    },
    {
      "cell_type": "code",
      "source": [
        ""
      ],
      "metadata": {
        "id": "zPIItQKsv91Z"
      },
      "execution_count": null,
      "outputs": []
    },
    {
      "cell_type": "markdown",
      "source": [
        "9.\tเขียนโปรแกรมเพื่อรับอินพุตจากผู้ใช้ (ทำซ้ำจนกว่าผู้ใช้จะป้อน 'x') จากนั้นแสดงรายการคำที่ลงท้ายด้วย '_er'\n",
        "\t(5 คะแนน)![ssss.png](data:image/png;base64,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)\n",
        " \n"
      ],
      "metadata": {
        "id": "--GnaEzfv9-h"
      }
    },
    {
      "cell_type": "code",
      "source": [
        ""
      ],
      "metadata": {
        "id": "52udnDsawOoN"
      },
      "execution_count": null,
      "outputs": []
    },
    {
      "cell_type": "markdown",
      "source": [
        "10.\tจงสร้างฟังก์ชันชื่อ sum_lucky รับพารามิเตอร์เป็นข้อความ แล้วรวมค่าของอักษรนำโชคในข้อความนั้น แล้ว return ค่ากลับมาเป็นผลรวมของคะแนน เมื่อกำหนดค่าของอักษรนำโชคดังนี้ s = 2,  o = 1,  f = 3,  t = 2,  w = 3,  a = 1,  r = 2 และ e = 1 \t(10 คะแนน)\n",
        "รูปแบบคำตอบที่ต้องการ\n",
        "sum_lucky(\"Royal Thai Airforce\")\n",
        "17\n",
        "*วิธีคิด R=2, o=1, y=0, a=1, l=0,  =0, T=2, h=0, a=1, i=0,  =0, A=1, i=0, r=2, f=3, o=1, r=2, c=0, e=1\n"
      ],
      "metadata": {
        "id": "kp3_ofzBwRCk"
      }
    },
    {
      "cell_type": "code",
      "source": [
        ""
      ],
      "metadata": {
        "id": "jwaDSqDFwRkm"
      },
      "execution_count": null,
      "outputs": []
    }
  ]
}